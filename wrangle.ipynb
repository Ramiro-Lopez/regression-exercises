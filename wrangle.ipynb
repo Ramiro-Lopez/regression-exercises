{
 "cells": [
  {
   "cell_type": "code",
   "execution_count": 2,
   "metadata": {},
   "outputs": [],
   "source": [
    "import pandas as pd \n",
    "import seaborn as sns\n",
    "import matplotlib.pyplot as plt \n",
    "import os\n",
    "import env\n"
   ]
  },
  {
   "cell_type": "markdown",
   "metadata": {},
   "source": [
    "# Acquire the Data"
   ]
  },
  {
   "cell_type": "code",
   "execution_count": 10,
   "metadata": {},
   "outputs": [],
   "source": [
    "def get_connection(db: str, user: str = env.user, host: str = env.host, password=env.password) -> str:\n",
    "    return f\"mysql+pymysql://{user}:{password}@{host}/{db}\"\n",
    "\n",
    "def get_zillow_data(file_name=\"zillow.csv\") -> pd.DataFrame:\n",
    "    if os.path.isfile(file_name):\n",
    "        return pd.read_csv(file_name)\n",
    "    query = \"\"\"select propertylandusedesc, bedroomcnt, \n",
    "               bathroomcnt, calculatedfinishedsquarefeet, \n",
    "               taxvaluedollarcnt, yearbuilt, taxamount, fips\n",
    "               from propertylandusetype \n",
    "               join properties_2017\n",
    "               using (propertylandusetypeid)\n",
    "               where propertylandusedesc = 'Single Family Residential'\n",
    "            \"\"\"\n",
    "    connection = get_connection(\"zillow\")\n",
    "    df = pd.read_sql(query, connection)\n",
    "    df.to_csv(file_name, index=False)\n",
    "    return df"
   ]
  },
  {
   "cell_type": "code",
   "execution_count": 11,
   "metadata": {},
   "outputs": [
    {
     "data": {
      "text/html": [
       "<div>\n",
       "<style scoped>\n",
       "    .dataframe tbody tr th:only-of-type {\n",
       "        vertical-align: middle;\n",
       "    }\n",
       "\n",
       "    .dataframe tbody tr th {\n",
       "        vertical-align: top;\n",
       "    }\n",
       "\n",
       "    .dataframe thead th {\n",
       "        text-align: right;\n",
       "    }\n",
       "</style>\n",
       "<table border=\"1\" class=\"dataframe\">\n",
       "  <thead>\n",
       "    <tr style=\"text-align: right;\">\n",
       "      <th></th>\n",
       "      <th>propertylandusedesc</th>\n",
       "      <th>bedroomcnt</th>\n",
       "      <th>bathroomcnt</th>\n",
       "      <th>calculatedfinishedsquarefeet</th>\n",
       "      <th>taxvaluedollarcnt</th>\n",
       "      <th>yearbuilt</th>\n",
       "      <th>taxamount</th>\n",
       "      <th>fips</th>\n",
       "    </tr>\n",
       "  </thead>\n",
       "  <tbody>\n",
       "    <tr>\n",
       "      <th>0</th>\n",
       "      <td>Single Family Residential</td>\n",
       "      <td>0.0</td>\n",
       "      <td>0.0</td>\n",
       "      <td>NaN</td>\n",
       "      <td>27516.0</td>\n",
       "      <td>NaN</td>\n",
       "      <td>NaN</td>\n",
       "      <td>6037.0</td>\n",
       "    </tr>\n",
       "    <tr>\n",
       "      <th>1</th>\n",
       "      <td>Single Family Residential</td>\n",
       "      <td>0.0</td>\n",
       "      <td>0.0</td>\n",
       "      <td>NaN</td>\n",
       "      <td>10.0</td>\n",
       "      <td>NaN</td>\n",
       "      <td>NaN</td>\n",
       "      <td>6037.0</td>\n",
       "    </tr>\n",
       "    <tr>\n",
       "      <th>2</th>\n",
       "      <td>Single Family Residential</td>\n",
       "      <td>0.0</td>\n",
       "      <td>0.0</td>\n",
       "      <td>NaN</td>\n",
       "      <td>10.0</td>\n",
       "      <td>NaN</td>\n",
       "      <td>NaN</td>\n",
       "      <td>6037.0</td>\n",
       "    </tr>\n",
       "    <tr>\n",
       "      <th>3</th>\n",
       "      <td>Single Family Residential</td>\n",
       "      <td>0.0</td>\n",
       "      <td>0.0</td>\n",
       "      <td>NaN</td>\n",
       "      <td>2108.0</td>\n",
       "      <td>NaN</td>\n",
       "      <td>174.21</td>\n",
       "      <td>6037.0</td>\n",
       "    </tr>\n",
       "    <tr>\n",
       "      <th>4</th>\n",
       "      <td>Single Family Residential</td>\n",
       "      <td>4.0</td>\n",
       "      <td>2.0</td>\n",
       "      <td>3633.0</td>\n",
       "      <td>296425.0</td>\n",
       "      <td>2005.0</td>\n",
       "      <td>6941.39</td>\n",
       "      <td>6037.0</td>\n",
       "    </tr>\n",
       "    <tr>\n",
       "      <th>...</th>\n",
       "      <td>...</td>\n",
       "      <td>...</td>\n",
       "      <td>...</td>\n",
       "      <td>...</td>\n",
       "      <td>...</td>\n",
       "      <td>...</td>\n",
       "      <td>...</td>\n",
       "      <td>...</td>\n",
       "    </tr>\n",
       "    <tr>\n",
       "      <th>2152858</th>\n",
       "      <td>Single Family Residential</td>\n",
       "      <td>4.0</td>\n",
       "      <td>3.0</td>\n",
       "      <td>2262.0</td>\n",
       "      <td>960756.0</td>\n",
       "      <td>2015.0</td>\n",
       "      <td>13494.52</td>\n",
       "      <td>6059.0</td>\n",
       "    </tr>\n",
       "    <tr>\n",
       "      <th>2152859</th>\n",
       "      <td>Single Family Residential</td>\n",
       "      <td>4.0</td>\n",
       "      <td>4.5</td>\n",
       "      <td>3127.0</td>\n",
       "      <td>536061.0</td>\n",
       "      <td>2014.0</td>\n",
       "      <td>6244.16</td>\n",
       "      <td>6059.0</td>\n",
       "    </tr>\n",
       "    <tr>\n",
       "      <th>2152860</th>\n",
       "      <td>Single Family Residential</td>\n",
       "      <td>0.0</td>\n",
       "      <td>0.0</td>\n",
       "      <td>NaN</td>\n",
       "      <td>208057.0</td>\n",
       "      <td>NaN</td>\n",
       "      <td>5783.88</td>\n",
       "      <td>6059.0</td>\n",
       "    </tr>\n",
       "    <tr>\n",
       "      <th>2152861</th>\n",
       "      <td>Single Family Residential</td>\n",
       "      <td>3.0</td>\n",
       "      <td>2.5</td>\n",
       "      <td>1974.0</td>\n",
       "      <td>424353.0</td>\n",
       "      <td>2015.0</td>\n",
       "      <td>5302.70</td>\n",
       "      <td>6059.0</td>\n",
       "    </tr>\n",
       "    <tr>\n",
       "      <th>2152862</th>\n",
       "      <td>Single Family Residential</td>\n",
       "      <td>4.0</td>\n",
       "      <td>4.0</td>\n",
       "      <td>2110.0</td>\n",
       "      <td>554009.0</td>\n",
       "      <td>2014.0</td>\n",
       "      <td>6761.20</td>\n",
       "      <td>6037.0</td>\n",
       "    </tr>\n",
       "  </tbody>\n",
       "</table>\n",
       "<p>2152863 rows × 8 columns</p>\n",
       "</div>"
      ],
      "text/plain": [
       "               propertylandusedesc  bedroomcnt  bathroomcnt  \\\n",
       "0        Single Family Residential         0.0          0.0   \n",
       "1        Single Family Residential         0.0          0.0   \n",
       "2        Single Family Residential         0.0          0.0   \n",
       "3        Single Family Residential         0.0          0.0   \n",
       "4        Single Family Residential         4.0          2.0   \n",
       "...                            ...         ...          ...   \n",
       "2152858  Single Family Residential         4.0          3.0   \n",
       "2152859  Single Family Residential         4.0          4.5   \n",
       "2152860  Single Family Residential         0.0          0.0   \n",
       "2152861  Single Family Residential         3.0          2.5   \n",
       "2152862  Single Family Residential         4.0          4.0   \n",
       "\n",
       "         calculatedfinishedsquarefeet  taxvaluedollarcnt  yearbuilt  \\\n",
       "0                                 NaN            27516.0        NaN   \n",
       "1                                 NaN               10.0        NaN   \n",
       "2                                 NaN               10.0        NaN   \n",
       "3                                 NaN             2108.0        NaN   \n",
       "4                              3633.0           296425.0     2005.0   \n",
       "...                               ...                ...        ...   \n",
       "2152858                        2262.0           960756.0     2015.0   \n",
       "2152859                        3127.0           536061.0     2014.0   \n",
       "2152860                           NaN           208057.0        NaN   \n",
       "2152861                        1974.0           424353.0     2015.0   \n",
       "2152862                        2110.0           554009.0     2014.0   \n",
       "\n",
       "         taxamount    fips  \n",
       "0              NaN  6037.0  \n",
       "1              NaN  6037.0  \n",
       "2              NaN  6037.0  \n",
       "3           174.21  6037.0  \n",
       "4          6941.39  6037.0  \n",
       "...            ...     ...  \n",
       "2152858   13494.52  6059.0  \n",
       "2152859    6244.16  6059.0  \n",
       "2152860    5783.88  6059.0  \n",
       "2152861    5302.70  6059.0  \n",
       "2152862    6761.20  6037.0  \n",
       "\n",
       "[2152863 rows x 8 columns]"
      ]
     },
     "execution_count": 11,
     "metadata": {},
     "output_type": "execute_result"
    }
   ],
   "source": [
    "df = get_zillow_data()\n",
    "df"
   ]
  },
  {
   "cell_type": "markdown",
   "metadata": {},
   "source": [
    "# Sample and Summarize"
   ]
  },
  {
   "cell_type": "code",
   "execution_count": 12,
   "metadata": {},
   "outputs": [
    {
     "data": {
      "text/html": [
       "<div>\n",
       "<style scoped>\n",
       "    .dataframe tbody tr th:only-of-type {\n",
       "        vertical-align: middle;\n",
       "    }\n",
       "\n",
       "    .dataframe tbody tr th {\n",
       "        vertical-align: top;\n",
       "    }\n",
       "\n",
       "    .dataframe thead th {\n",
       "        text-align: right;\n",
       "    }\n",
       "</style>\n",
       "<table border=\"1\" class=\"dataframe\">\n",
       "  <thead>\n",
       "    <tr style=\"text-align: right;\">\n",
       "      <th></th>\n",
       "      <th>propertylandusedesc</th>\n",
       "      <th>bedroomcnt</th>\n",
       "      <th>bathroomcnt</th>\n",
       "      <th>calculatedfinishedsquarefeet</th>\n",
       "      <th>taxvaluedollarcnt</th>\n",
       "      <th>yearbuilt</th>\n",
       "      <th>taxamount</th>\n",
       "      <th>fips</th>\n",
       "    </tr>\n",
       "  </thead>\n",
       "  <tbody>\n",
       "    <tr>\n",
       "      <th>595836</th>\n",
       "      <td>Single Family Residential</td>\n",
       "      <td>2.0</td>\n",
       "      <td>1.0</td>\n",
       "      <td>1132.0</td>\n",
       "      <td>225204.0</td>\n",
       "      <td>1902.0</td>\n",
       "      <td>2867.60</td>\n",
       "      <td>6037.0</td>\n",
       "    </tr>\n",
       "    <tr>\n",
       "      <th>791928</th>\n",
       "      <td>Single Family Residential</td>\n",
       "      <td>3.0</td>\n",
       "      <td>1.0</td>\n",
       "      <td>1014.0</td>\n",
       "      <td>40958.0</td>\n",
       "      <td>1955.0</td>\n",
       "      <td>1157.52</td>\n",
       "      <td>6037.0</td>\n",
       "    </tr>\n",
       "    <tr>\n",
       "      <th>1344879</th>\n",
       "      <td>Single Family Residential</td>\n",
       "      <td>3.0</td>\n",
       "      <td>2.5</td>\n",
       "      <td>1672.0</td>\n",
       "      <td>395947.0</td>\n",
       "      <td>1976.0</td>\n",
       "      <td>4179.56</td>\n",
       "      <td>6059.0</td>\n",
       "    </tr>\n",
       "    <tr>\n",
       "      <th>1797630</th>\n",
       "      <td>Single Family Residential</td>\n",
       "      <td>4.0</td>\n",
       "      <td>3.0</td>\n",
       "      <td>2428.0</td>\n",
       "      <td>667000.0</td>\n",
       "      <td>2005.0</td>\n",
       "      <td>8973.62</td>\n",
       "      <td>6059.0</td>\n",
       "    </tr>\n",
       "    <tr>\n",
       "      <th>1649311</th>\n",
       "      <td>Single Family Residential</td>\n",
       "      <td>4.0</td>\n",
       "      <td>4.0</td>\n",
       "      <td>3072.0</td>\n",
       "      <td>364577.0</td>\n",
       "      <td>1968.0</td>\n",
       "      <td>4743.23</td>\n",
       "      <td>6037.0</td>\n",
       "    </tr>\n",
       "  </tbody>\n",
       "</table>\n",
       "</div>"
      ],
      "text/plain": [
       "               propertylandusedesc  bedroomcnt  bathroomcnt  \\\n",
       "595836   Single Family Residential         2.0          1.0   \n",
       "791928   Single Family Residential         3.0          1.0   \n",
       "1344879  Single Family Residential         3.0          2.5   \n",
       "1797630  Single Family Residential         4.0          3.0   \n",
       "1649311  Single Family Residential         4.0          4.0   \n",
       "\n",
       "         calculatedfinishedsquarefeet  taxvaluedollarcnt  yearbuilt  \\\n",
       "595836                         1132.0           225204.0     1902.0   \n",
       "791928                         1014.0            40958.0     1955.0   \n",
       "1344879                        1672.0           395947.0     1976.0   \n",
       "1797630                        2428.0           667000.0     2005.0   \n",
       "1649311                        3072.0           364577.0     1968.0   \n",
       "\n",
       "         taxamount    fips  \n",
       "595836     2867.60  6037.0  \n",
       "791928     1157.52  6037.0  \n",
       "1344879    4179.56  6059.0  \n",
       "1797630    8973.62  6059.0  \n",
       "1649311    4743.23  6037.0  "
      ]
     },
     "execution_count": 12,
     "metadata": {},
     "output_type": "execute_result"
    }
   ],
   "source": [
    "df.sample(5) # gives me 5 random rows from the dataframe "
   ]
  },
  {
   "cell_type": "code",
   "execution_count": 13,
   "metadata": {},
   "outputs": [
    {
     "data": {
      "text/html": [
       "<div>\n",
       "<style scoped>\n",
       "    .dataframe tbody tr th:only-of-type {\n",
       "        vertical-align: middle;\n",
       "    }\n",
       "\n",
       "    .dataframe tbody tr th {\n",
       "        vertical-align: top;\n",
       "    }\n",
       "\n",
       "    .dataframe thead th {\n",
       "        text-align: right;\n",
       "    }\n",
       "</style>\n",
       "<table border=\"1\" class=\"dataframe\">\n",
       "  <thead>\n",
       "    <tr style=\"text-align: right;\">\n",
       "      <th></th>\n",
       "      <th>count</th>\n",
       "      <th>mean</th>\n",
       "      <th>std</th>\n",
       "      <th>min</th>\n",
       "      <th>25%</th>\n",
       "      <th>50%</th>\n",
       "      <th>75%</th>\n",
       "      <th>max</th>\n",
       "    </tr>\n",
       "  </thead>\n",
       "  <tbody>\n",
       "    <tr>\n",
       "      <th>bedroomcnt</th>\n",
       "      <td>2152852.0</td>\n",
       "      <td>3.287196</td>\n",
       "      <td>0.954754</td>\n",
       "      <td>0.00</td>\n",
       "      <td>3.00</td>\n",
       "      <td>3.00</td>\n",
       "      <td>4.00</td>\n",
       "      <td>25.00</td>\n",
       "    </tr>\n",
       "    <tr>\n",
       "      <th>bathroomcnt</th>\n",
       "      <td>2152852.0</td>\n",
       "      <td>2.230688</td>\n",
       "      <td>0.999280</td>\n",
       "      <td>0.00</td>\n",
       "      <td>2.00</td>\n",
       "      <td>2.00</td>\n",
       "      <td>3.00</td>\n",
       "      <td>32.00</td>\n",
       "    </tr>\n",
       "    <tr>\n",
       "      <th>calculatedfinishedsquarefeet</th>\n",
       "      <td>2144379.0</td>\n",
       "      <td>1862.855178</td>\n",
       "      <td>1222.125124</td>\n",
       "      <td>1.00</td>\n",
       "      <td>1257.00</td>\n",
       "      <td>1623.00</td>\n",
       "      <td>2208.00</td>\n",
       "      <td>952576.00</td>\n",
       "    </tr>\n",
       "    <tr>\n",
       "      <th>taxvaluedollarcnt</th>\n",
       "      <td>2152370.0</td>\n",
       "      <td>461896.237963</td>\n",
       "      <td>699676.049600</td>\n",
       "      <td>1.00</td>\n",
       "      <td>188170.25</td>\n",
       "      <td>327671.00</td>\n",
       "      <td>534527.00</td>\n",
       "      <td>98428909.00</td>\n",
       "    </tr>\n",
       "    <tr>\n",
       "      <th>yearbuilt</th>\n",
       "      <td>2143526.0</td>\n",
       "      <td>1960.949681</td>\n",
       "      <td>22.162196</td>\n",
       "      <td>1801.00</td>\n",
       "      <td>1949.00</td>\n",
       "      <td>1958.00</td>\n",
       "      <td>1976.00</td>\n",
       "      <td>2016.00</td>\n",
       "    </tr>\n",
       "    <tr>\n",
       "      <th>taxamount</th>\n",
       "      <td>2148421.0</td>\n",
       "      <td>5634.865978</td>\n",
       "      <td>8178.910249</td>\n",
       "      <td>1.85</td>\n",
       "      <td>2534.98</td>\n",
       "      <td>4108.95</td>\n",
       "      <td>6414.32</td>\n",
       "      <td>1337755.86</td>\n",
       "    </tr>\n",
       "    <tr>\n",
       "      <th>fips</th>\n",
       "      <td>2152863.0</td>\n",
       "      <td>6048.377335</td>\n",
       "      <td>20.433292</td>\n",
       "      <td>6037.00</td>\n",
       "      <td>6037.00</td>\n",
       "      <td>6037.00</td>\n",
       "      <td>6059.00</td>\n",
       "      <td>6111.00</td>\n",
       "    </tr>\n",
       "  </tbody>\n",
       "</table>\n",
       "</div>"
      ],
      "text/plain": [
       "                                  count           mean            std  \\\n",
       "bedroomcnt                    2152852.0       3.287196       0.954754   \n",
       "bathroomcnt                   2152852.0       2.230688       0.999280   \n",
       "calculatedfinishedsquarefeet  2144379.0    1862.855178    1222.125124   \n",
       "taxvaluedollarcnt             2152370.0  461896.237963  699676.049600   \n",
       "yearbuilt                     2143526.0    1960.949681      22.162196   \n",
       "taxamount                     2148421.0    5634.865978    8178.910249   \n",
       "fips                          2152863.0    6048.377335      20.433292   \n",
       "\n",
       "                                  min        25%        50%        75%  \\\n",
       "bedroomcnt                       0.00       3.00       3.00       4.00   \n",
       "bathroomcnt                      0.00       2.00       2.00       3.00   \n",
       "calculatedfinishedsquarefeet     1.00    1257.00    1623.00    2208.00   \n",
       "taxvaluedollarcnt                1.00  188170.25  327671.00  534527.00   \n",
       "yearbuilt                     1801.00    1949.00    1958.00    1976.00   \n",
       "taxamount                        1.85    2534.98    4108.95    6414.32   \n",
       "fips                          6037.00    6037.00    6037.00    6059.00   \n",
       "\n",
       "                                      max  \n",
       "bedroomcnt                          25.00  \n",
       "bathroomcnt                         32.00  \n",
       "calculatedfinishedsquarefeet    952576.00  \n",
       "taxvaluedollarcnt             98428909.00  \n",
       "yearbuilt                         2016.00  \n",
       "taxamount                      1337755.86  \n",
       "fips                              6111.00  "
      ]
     },
     "execution_count": 13,
     "metadata": {},
     "output_type": "execute_result"
    }
   ],
   "source": [
    "df.describe().T # gives me the summary statistics and transpose them for better view"
   ]
  },
  {
   "cell_type": "code",
   "execution_count": 14,
   "metadata": {},
   "outputs": [
    {
     "data": {
      "text/plain": [
       "(2152863, 8)"
      ]
     },
     "execution_count": 14,
     "metadata": {},
     "output_type": "execute_result"
    }
   ],
   "source": [
    "df.shape # shows number of rows and columns respectivly "
   ]
  },
  {
   "cell_type": "code",
   "execution_count": 15,
   "metadata": {},
   "outputs": [
    {
     "data": {
      "text/plain": [
       "17222904"
      ]
     },
     "execution_count": 15,
     "metadata": {},
     "output_type": "execute_result"
    }
   ],
   "source": [
    "df.size # count of elements in the array "
   ]
  },
  {
   "cell_type": "code",
   "execution_count": 16,
   "metadata": {},
   "outputs": [
    {
     "name": "stdout",
     "output_type": "stream",
     "text": [
      "<class 'pandas.core.frame.DataFrame'>\n",
      "RangeIndex: 2152863 entries, 0 to 2152862\n",
      "Data columns (total 8 columns):\n",
      " #   Column                        Dtype  \n",
      "---  ------                        -----  \n",
      " 0   propertylandusedesc           object \n",
      " 1   bedroomcnt                    float64\n",
      " 2   bathroomcnt                   float64\n",
      " 3   calculatedfinishedsquarefeet  float64\n",
      " 4   taxvaluedollarcnt             float64\n",
      " 5   yearbuilt                     float64\n",
      " 6   taxamount                     float64\n",
      " 7   fips                          float64\n",
      "dtypes: float64(7), object(1)\n",
      "memory usage: 131.4+ MB\n"
     ]
    }
   ],
   "source": [
    "df.info()"
   ]
  },
  {
   "cell_type": "code",
   "execution_count": null,
   "metadata": {},
   "outputs": [],
   "source": [
    "# want to change Dtypes for yearbuilt, fips, and bedrooms into ints becasue we cant have decemalts "
   ]
  },
  {
   "cell_type": "code",
   "execution_count": null,
   "metadata": {},
   "outputs": [],
   "source": [
    "# rename colums for me "
   ]
  },
  {
   "cell_type": "code",
   "execution_count": 17,
   "metadata": {},
   "outputs": [],
   "source": [
    "def check_columns(df):\n",
    "    \"\"\"\n",
    "    This function takes a pandas dataframe as input and returns\n",
    "    a dataframe with information about each column in the dataframe. For\n",
    "    each column, it returns the column name, the number of\n",
    "    unique values in the column, the unique values themselves,\n",
    "    the number of null values in the column, and the data type of the column.\n",
    "    The resulting dataframe is sorted by the 'Number of Unique Values' column in ascending order.\n",
    "​\n",
    "    Args:\n",
    "    - df_telco: pandas dataframe\n",
    "​\n",
    "    Returns:\n",
    "    - pandas dataframe\n",
    "    \"\"\"\n",
    "    data = []\n",
    "    # Loop through each column in the dataframe\n",
    "    for column in df.columns:\n",
    "        # Append the column name, number of unique values, unique values, number of null values, and data type to the data list\n",
    "        data.append(\n",
    "            [\n",
    "                column,\n",
    "                df[column].nunique(),\n",
    "                df[column].unique(),\n",
    "                df[column].isna().sum(),\n",
    "                df[column].dtype\n",
    "            ]\n",
    "        )\n",
    "    # Create a pandas dataframe from the data list, with column names 'Column Name', 'Number of Unique Values', 'Unique Values', 'Number of Null Values', and 'dtype'\n",
    "    # Sort the resulting dataframe by the 'Number of Unique Values' column in ascending order\n",
    "    return pd.DataFrame(\n",
    "        data,\n",
    "        columns=[\n",
    "            \"Column Name\",\n",
    "            \"Number of Unique Values\",\n",
    "            \"Unique Values\",\n",
    "            \"Number of Null Values\",\n",
    "            \"dtype\"\n",
    "        ],\n",
    "    ).sort_values(by=\"Number of Unique Values\")"
   ]
  },
  {
   "cell_type": "code",
   "execution_count": 18,
   "metadata": {},
   "outputs": [
    {
     "data": {
      "text/html": [
       "<div>\n",
       "<style scoped>\n",
       "    .dataframe tbody tr th:only-of-type {\n",
       "        vertical-align: middle;\n",
       "    }\n",
       "\n",
       "    .dataframe tbody tr th {\n",
       "        vertical-align: top;\n",
       "    }\n",
       "\n",
       "    .dataframe thead th {\n",
       "        text-align: right;\n",
       "    }\n",
       "</style>\n",
       "<table border=\"1\" class=\"dataframe\">\n",
       "  <thead>\n",
       "    <tr style=\"text-align: right;\">\n",
       "      <th></th>\n",
       "      <th>0</th>\n",
       "      <th>7</th>\n",
       "      <th>1</th>\n",
       "      <th>2</th>\n",
       "      <th>5</th>\n",
       "      <th>3</th>\n",
       "      <th>4</th>\n",
       "      <th>6</th>\n",
       "    </tr>\n",
       "  </thead>\n",
       "  <tbody>\n",
       "    <tr>\n",
       "      <th>Column Name</th>\n",
       "      <td>propertylandusedesc</td>\n",
       "      <td>fips</td>\n",
       "      <td>bedroomcnt</td>\n",
       "      <td>bathroomcnt</td>\n",
       "      <td>yearbuilt</td>\n",
       "      <td>calculatedfinishedsquarefeet</td>\n",
       "      <td>taxvaluedollarcnt</td>\n",
       "      <td>taxamount</td>\n",
       "    </tr>\n",
       "    <tr>\n",
       "      <th>Number of Unique Values</th>\n",
       "      <td>1</td>\n",
       "      <td>3</td>\n",
       "      <td>19</td>\n",
       "      <td>38</td>\n",
       "      <td>153</td>\n",
       "      <td>10580</td>\n",
       "      <td>592269</td>\n",
       "      <td>918838</td>\n",
       "    </tr>\n",
       "    <tr>\n",
       "      <th>Unique Values</th>\n",
       "      <td>[Single Family Residential]</td>\n",
       "      <td>[6037.0, 6059.0, 6111.0]</td>\n",
       "      <td>[0.0, 4.0, 3.0, 5.0, 2.0, 1.0, 6.0, 7.0, 8.0, ...</td>\n",
       "      <td>[0.0, 2.0, 4.0, 1.0, 2.5, 3.5, 3.0, 5.5, 4.5, ...</td>\n",
       "      <td>[nan, 2005.0, 2011.0, 1926.0, 1972.0, 1973.0, ...</td>\n",
       "      <td>[nan, 3633.0, 1620.0, 2077.0, 1200.0, 171.0, 2...</td>\n",
       "      <td>[27516.0, 10.0, 2108.0, 296425.0, 124.0, 84777...</td>\n",
       "      <td>[nan, 174.21, 6941.39, 10244.94, 7924.68, 8034...</td>\n",
       "    </tr>\n",
       "    <tr>\n",
       "      <th>Number of Null Values</th>\n",
       "      <td>0</td>\n",
       "      <td>0</td>\n",
       "      <td>11</td>\n",
       "      <td>11</td>\n",
       "      <td>9337</td>\n",
       "      <td>8484</td>\n",
       "      <td>493</td>\n",
       "      <td>4442</td>\n",
       "    </tr>\n",
       "    <tr>\n",
       "      <th>dtype</th>\n",
       "      <td>object</td>\n",
       "      <td>float64</td>\n",
       "      <td>float64</td>\n",
       "      <td>float64</td>\n",
       "      <td>float64</td>\n",
       "      <td>float64</td>\n",
       "      <td>float64</td>\n",
       "      <td>float64</td>\n",
       "    </tr>\n",
       "  </tbody>\n",
       "</table>\n",
       "</div>"
      ],
      "text/plain": [
       "                                                   0  \\\n",
       "Column Name                      propertylandusedesc   \n",
       "Number of Unique Values                            1   \n",
       "Unique Values            [Single Family Residential]   \n",
       "Number of Null Values                              0   \n",
       "dtype                                         object   \n",
       "\n",
       "                                                7  \\\n",
       "Column Name                                  fips   \n",
       "Number of Unique Values                         3   \n",
       "Unique Values            [6037.0, 6059.0, 6111.0]   \n",
       "Number of Null Values                           0   \n",
       "dtype                                     float64   \n",
       "\n",
       "                                                                         1  \\\n",
       "Column Name                                                     bedroomcnt   \n",
       "Number of Unique Values                                                 19   \n",
       "Unique Values            [0.0, 4.0, 3.0, 5.0, 2.0, 1.0, 6.0, 7.0, 8.0, ...   \n",
       "Number of Null Values                                                   11   \n",
       "dtype                                                              float64   \n",
       "\n",
       "                                                                         2  \\\n",
       "Column Name                                                    bathroomcnt   \n",
       "Number of Unique Values                                                 38   \n",
       "Unique Values            [0.0, 2.0, 4.0, 1.0, 2.5, 3.5, 3.0, 5.5, 4.5, ...   \n",
       "Number of Null Values                                                   11   \n",
       "dtype                                                              float64   \n",
       "\n",
       "                                                                         5  \\\n",
       "Column Name                                                      yearbuilt   \n",
       "Number of Unique Values                                                153   \n",
       "Unique Values            [nan, 2005.0, 2011.0, 1926.0, 1972.0, 1973.0, ...   \n",
       "Number of Null Values                                                 9337   \n",
       "dtype                                                              float64   \n",
       "\n",
       "                                                                         3  \\\n",
       "Column Name                                   calculatedfinishedsquarefeet   \n",
       "Number of Unique Values                                              10580   \n",
       "Unique Values            [nan, 3633.0, 1620.0, 2077.0, 1200.0, 171.0, 2...   \n",
       "Number of Null Values                                                 8484   \n",
       "dtype                                                              float64   \n",
       "\n",
       "                                                                         4  \\\n",
       "Column Name                                              taxvaluedollarcnt   \n",
       "Number of Unique Values                                             592269   \n",
       "Unique Values            [27516.0, 10.0, 2108.0, 296425.0, 124.0, 84777...   \n",
       "Number of Null Values                                                  493   \n",
       "dtype                                                              float64   \n",
       "\n",
       "                                                                         6  \n",
       "Column Name                                                      taxamount  \n",
       "Number of Unique Values                                             918838  \n",
       "Unique Values            [nan, 174.21, 6941.39, 10244.94, 7924.68, 8034...  \n",
       "Number of Null Values                                                 4442  \n",
       "dtype                                                              float64  "
      ]
     },
     "execution_count": 18,
     "metadata": {},
     "output_type": "execute_result"
    }
   ],
   "source": [
    "check_columns(df=df).T"
   ]
  },
  {
   "cell_type": "code",
   "execution_count": 19,
   "metadata": {},
   "outputs": [
    {
     "data": {
      "text/plain": [
       "propertylandusedesc             False\n",
       "bedroomcnt                       True\n",
       "bathroomcnt                      True\n",
       "calculatedfinishedsquarefeet     True\n",
       "taxvaluedollarcnt                True\n",
       "yearbuilt                        True\n",
       "taxamount                        True\n",
       "fips                            False\n",
       "dtype: bool"
      ]
     },
     "execution_count": 19,
     "metadata": {},
     "output_type": "execute_result"
    }
   ],
   "source": [
    "df.isnull().any()"
   ]
  },
  {
   "cell_type": "code",
   "execution_count": 48,
   "metadata": {},
   "outputs": [
    {
     "data": {
      "text/plain": [
       "propertylandusedesc             0\n",
       "bedroomcnt                      0\n",
       "bathroomcnt                     0\n",
       "calculatedfinishedsquarefeet    0\n",
       "taxvaluedollarcnt               0\n",
       "yearbuilt                       0\n",
       "taxamount                       0\n",
       "fips                            0\n",
       "dtype: int64"
      ]
     },
     "execution_count": 48,
     "metadata": {},
     "output_type": "execute_result"
    }
   ],
   "source": [
    "df.isnull().sum()"
   ]
  },
  {
   "cell_type": "code",
   "execution_count": 21,
   "metadata": {},
   "outputs": [
    {
     "data": {
      "text/plain": [
       "(2144379, 8484)"
      ]
     },
     "execution_count": 21,
     "metadata": {},
     "output_type": "execute_result"
    }
   ],
   "source": [
    "df.calculatedfinishedsquarefeet.count(), df.calculatedfinishedsquarefeet.isnull().sum()"
   ]
  },
  {
   "cell_type": "code",
   "execution_count": 22,
   "metadata": {},
   "outputs": [
    {
     "ename": "KeyboardInterrupt",
     "evalue": "",
     "output_type": "error",
     "traceback": [
      "\u001b[0;31m---------------------------------------------------------------------------\u001b[0m",
      "\u001b[0;31mKeyboardInterrupt\u001b[0m                         Traceback (most recent call last)",
      "Cell \u001b[0;32mIn[22], line 3\u001b[0m\n\u001b[1;32m      1\u001b[0m \u001b[39m# The default is bins=10.\u001b[39;00m\n\u001b[0;32m----> 3\u001b[0m sns\u001b[39m.\u001b[39;49mcountplot(x\u001b[39m=\u001b[39;49mdf\u001b[39m.\u001b[39;49mcalculatedfinishedsquarefeet, data\u001b[39m=\u001b[39;49mdf)\n\u001b[1;32m      5\u001b[0m plt\u001b[39m.\u001b[39mtitle(\u001b[39m'\u001b[39m\u001b[39mCFSQfT\u001b[39m\u001b[39m'\u001b[39m)\n\u001b[1;32m      6\u001b[0m plt\u001b[39m.\u001b[39mshow()\n",
      "File \u001b[0;32m~/anaconda3/lib/python3.10/site-packages/seaborn/categorical.py:2955\u001b[0m, in \u001b[0;36mcountplot\u001b[0;34m(data, x, y, hue, order, hue_order, orient, color, palette, saturation, width, dodge, ax, **kwargs)\u001b[0m\n\u001b[1;32m   2952\u001b[0m \u001b[39mif\u001b[39;00m ax \u001b[39mis\u001b[39;00m \u001b[39mNone\u001b[39;00m:\n\u001b[1;32m   2953\u001b[0m     ax \u001b[39m=\u001b[39m plt\u001b[39m.\u001b[39mgca()\n\u001b[0;32m-> 2955\u001b[0m plotter\u001b[39m.\u001b[39;49mplot(ax, kwargs)\n\u001b[1;32m   2956\u001b[0m \u001b[39mreturn\u001b[39;00m ax\n",
      "File \u001b[0;32m~/anaconda3/lib/python3.10/site-packages/seaborn/categorical.py:1586\u001b[0m, in \u001b[0;36m_BarPlotter.plot\u001b[0;34m(self, ax, bar_kws)\u001b[0m\n\u001b[1;32m   1584\u001b[0m \u001b[39mdef\u001b[39;00m \u001b[39mplot\u001b[39m(\u001b[39mself\u001b[39m, ax, bar_kws):\n\u001b[1;32m   1585\u001b[0m     \u001b[39m\"\"\"Make the plot.\"\"\"\u001b[39;00m\n\u001b[0;32m-> 1586\u001b[0m     \u001b[39mself\u001b[39;49m\u001b[39m.\u001b[39;49mdraw_bars(ax, bar_kws)\n\u001b[1;32m   1587\u001b[0m     \u001b[39mself\u001b[39m\u001b[39m.\u001b[39mannotate_axes(ax)\n\u001b[1;32m   1588\u001b[0m     \u001b[39mif\u001b[39;00m \u001b[39mself\u001b[39m\u001b[39m.\u001b[39morient \u001b[39m==\u001b[39m \u001b[39m\"\u001b[39m\u001b[39mh\u001b[39m\u001b[39m\"\u001b[39m:\n",
      "File \u001b[0;32m~/anaconda3/lib/python3.10/site-packages/seaborn/categorical.py:1551\u001b[0m, in \u001b[0;36m_BarPlotter.draw_bars\u001b[0;34m(self, ax, kws)\u001b[0m\n\u001b[1;32m   1546\u001b[0m barpos \u001b[39m=\u001b[39m np\u001b[39m.\u001b[39marange(\u001b[39mlen\u001b[39m(\u001b[39mself\u001b[39m\u001b[39m.\u001b[39mstatistic))\n\u001b[1;32m   1548\u001b[0m \u001b[39mif\u001b[39;00m \u001b[39mself\u001b[39m\u001b[39m.\u001b[39mplot_hues \u001b[39mis\u001b[39;00m \u001b[39mNone\u001b[39;00m:\n\u001b[1;32m   1549\u001b[0m \n\u001b[1;32m   1550\u001b[0m     \u001b[39m# Draw the bars\u001b[39;00m\n\u001b[0;32m-> 1551\u001b[0m     barfunc(barpos, \u001b[39mself\u001b[39;49m\u001b[39m.\u001b[39;49mstatistic, \u001b[39mself\u001b[39;49m\u001b[39m.\u001b[39;49mwidth,\n\u001b[1;32m   1552\u001b[0m             color\u001b[39m=\u001b[39;49m\u001b[39mself\u001b[39;49m\u001b[39m.\u001b[39;49mcolors, align\u001b[39m=\u001b[39;49m\u001b[39m\"\u001b[39;49m\u001b[39mcenter\u001b[39;49m\u001b[39m\"\u001b[39;49m, \u001b[39m*\u001b[39;49m\u001b[39m*\u001b[39;49mkws)\n\u001b[1;32m   1554\u001b[0m     \u001b[39m# Draw the confidence intervals\u001b[39;00m\n\u001b[1;32m   1555\u001b[0m     errcolors \u001b[39m=\u001b[39m [\u001b[39mself\u001b[39m\u001b[39m.\u001b[39merrcolor] \u001b[39m*\u001b[39m \u001b[39mlen\u001b[39m(barpos)\n",
      "File \u001b[0;32m~/anaconda3/lib/python3.10/site-packages/matplotlib/__init__.py:1442\u001b[0m, in \u001b[0;36m_preprocess_data.<locals>.inner\u001b[0;34m(ax, data, *args, **kwargs)\u001b[0m\n\u001b[1;32m   1439\u001b[0m \u001b[39m@functools\u001b[39m\u001b[39m.\u001b[39mwraps(func)\n\u001b[1;32m   1440\u001b[0m \u001b[39mdef\u001b[39;00m \u001b[39minner\u001b[39m(ax, \u001b[39m*\u001b[39margs, data\u001b[39m=\u001b[39m\u001b[39mNone\u001b[39;00m, \u001b[39m*\u001b[39m\u001b[39m*\u001b[39mkwargs):\n\u001b[1;32m   1441\u001b[0m     \u001b[39mif\u001b[39;00m data \u001b[39mis\u001b[39;00m \u001b[39mNone\u001b[39;00m:\n\u001b[0;32m-> 1442\u001b[0m         \u001b[39mreturn\u001b[39;00m func(ax, \u001b[39m*\u001b[39;49m\u001b[39mmap\u001b[39;49m(sanitize_sequence, args), \u001b[39m*\u001b[39;49m\u001b[39m*\u001b[39;49mkwargs)\n\u001b[1;32m   1444\u001b[0m     bound \u001b[39m=\u001b[39m new_sig\u001b[39m.\u001b[39mbind(ax, \u001b[39m*\u001b[39margs, \u001b[39m*\u001b[39m\u001b[39m*\u001b[39mkwargs)\n\u001b[1;32m   1445\u001b[0m     auto_label \u001b[39m=\u001b[39m (bound\u001b[39m.\u001b[39marguments\u001b[39m.\u001b[39mget(label_namer)\n\u001b[1;32m   1446\u001b[0m                   \u001b[39mor\u001b[39;00m bound\u001b[39m.\u001b[39mkwargs\u001b[39m.\u001b[39mget(label_namer))\n",
      "File \u001b[0;32m~/anaconda3/lib/python3.10/site-packages/matplotlib/axes/_axes.py:2494\u001b[0m, in \u001b[0;36mAxes.bar\u001b[0;34m(self, x, height, width, bottom, align, **kwargs)\u001b[0m\n\u001b[1;32m   2492\u001b[0m     \u001b[39melse\u001b[39;00m:  \u001b[39m# horizontal\u001b[39;00m\n\u001b[1;32m   2493\u001b[0m         r\u001b[39m.\u001b[39msticky_edges\u001b[39m.\u001b[39mx\u001b[39m.\u001b[39mappend(l)\n\u001b[0;32m-> 2494\u001b[0m     \u001b[39mself\u001b[39;49m\u001b[39m.\u001b[39;49madd_patch(r)\n\u001b[1;32m   2495\u001b[0m     patches\u001b[39m.\u001b[39mappend(r)\n\u001b[1;32m   2497\u001b[0m \u001b[39mif\u001b[39;00m xerr \u001b[39mis\u001b[39;00m \u001b[39mnot\u001b[39;00m \u001b[39mNone\u001b[39;00m \u001b[39mor\u001b[39;00m yerr \u001b[39mis\u001b[39;00m \u001b[39mnot\u001b[39;00m \u001b[39mNone\u001b[39;00m:\n",
      "File \u001b[0;32m~/anaconda3/lib/python3.10/site-packages/matplotlib/axes/_base.py:2379\u001b[0m, in \u001b[0;36m_AxesBase.add_patch\u001b[0;34m(self, p)\u001b[0m\n\u001b[1;32m   2377\u001b[0m \u001b[39mif\u001b[39;00m p\u001b[39m.\u001b[39mget_clip_path() \u001b[39mis\u001b[39;00m \u001b[39mNone\u001b[39;00m:\n\u001b[1;32m   2378\u001b[0m     p\u001b[39m.\u001b[39mset_clip_path(\u001b[39mself\u001b[39m\u001b[39m.\u001b[39mpatch)\n\u001b[0;32m-> 2379\u001b[0m \u001b[39mself\u001b[39;49m\u001b[39m.\u001b[39;49m_update_patch_limits(p)\n\u001b[1;32m   2380\u001b[0m \u001b[39mself\u001b[39m\u001b[39m.\u001b[39m_children\u001b[39m.\u001b[39mappend(p)\n\u001b[1;32m   2381\u001b[0m p\u001b[39m.\u001b[39m_remove_method \u001b[39m=\u001b[39m \u001b[39mself\u001b[39m\u001b[39m.\u001b[39m_children\u001b[39m.\u001b[39mremove\n",
      "File \u001b[0;32m~/anaconda3/lib/python3.10/site-packages/matplotlib/axes/_base.py:2401\u001b[0m, in \u001b[0;36m_AxesBase._update_patch_limits\u001b[0;34m(self, patch)\u001b[0m\n\u001b[1;32m   2398\u001b[0m \u001b[39m# Get all vertices on the path\u001b[39;00m\n\u001b[1;32m   2399\u001b[0m \u001b[39m# Loop through each segment to get extrema for Bezier curve sections\u001b[39;00m\n\u001b[1;32m   2400\u001b[0m vertices \u001b[39m=\u001b[39m []\n\u001b[0;32m-> 2401\u001b[0m \u001b[39mfor\u001b[39;00m curve, code \u001b[39min\u001b[39;00m p\u001b[39m.\u001b[39miter_bezier(simplify\u001b[39m=\u001b[39m\u001b[39mFalse\u001b[39;00m):\n\u001b[1;32m   2402\u001b[0m     \u001b[39m# Get distance along the curve of any extrema\u001b[39;00m\n\u001b[1;32m   2403\u001b[0m     _, dzeros \u001b[39m=\u001b[39m curve\u001b[39m.\u001b[39maxis_aligned_extrema()\n\u001b[1;32m   2404\u001b[0m     \u001b[39m# Calculate vertices of start, end and any extrema in between\u001b[39;00m\n",
      "File \u001b[0;32m~/anaconda3/lib/python3.10/site-packages/matplotlib/path.py:451\u001b[0m, in \u001b[0;36mPath.iter_bezier\u001b[0;34m(self, **kwargs)\u001b[0m\n\u001b[1;32m    449\u001b[0m     \u001b[39myield\u001b[39;00m BezierSegment(np\u001b[39m.\u001b[39marray([first_vert])), code\n\u001b[1;32m    450\u001b[0m \u001b[39melif\u001b[39;00m code \u001b[39m==\u001b[39m Path\u001b[39m.\u001b[39mLINETO:  \u001b[39m# \"CURVE2\"\u001b[39;00m\n\u001b[0;32m--> 451\u001b[0m     \u001b[39myield\u001b[39;00m BezierSegment(np\u001b[39m.\u001b[39;49marray([prev_vert, verts])), code\n\u001b[1;32m    452\u001b[0m \u001b[39melif\u001b[39;00m code \u001b[39m==\u001b[39m Path\u001b[39m.\u001b[39mCURVE3:\n\u001b[1;32m    453\u001b[0m     \u001b[39myield\u001b[39;00m BezierSegment(np\u001b[39m.\u001b[39marray([prev_vert, verts[:\u001b[39m2\u001b[39m],\n\u001b[1;32m    454\u001b[0m                                   verts[\u001b[39m2\u001b[39m:]])), code\n",
      "File \u001b[0;32m~/anaconda3/lib/python3.10/site-packages/matplotlib/bezier.py:195\u001b[0m, in \u001b[0;36mBezierSegment.__init__\u001b[0;34m(self, control_points)\u001b[0m\n\u001b[1;32m    193\u001b[0m \u001b[39mself\u001b[39m\u001b[39m.\u001b[39m_N, \u001b[39mself\u001b[39m\u001b[39m.\u001b[39m_d \u001b[39m=\u001b[39m \u001b[39mself\u001b[39m\u001b[39m.\u001b[39m_cpoints\u001b[39m.\u001b[39mshape\n\u001b[1;32m    194\u001b[0m \u001b[39mself\u001b[39m\u001b[39m.\u001b[39m_orders \u001b[39m=\u001b[39m np\u001b[39m.\u001b[39marange(\u001b[39mself\u001b[39m\u001b[39m.\u001b[39m_N)\n\u001b[0;32m--> 195\u001b[0m coeff \u001b[39m=\u001b[39m [math\u001b[39m.\u001b[39mfactorial(\u001b[39mself\u001b[39m\u001b[39m.\u001b[39m_N \u001b[39m-\u001b[39m \u001b[39m1\u001b[39m)\n\u001b[1;32m    196\u001b[0m          \u001b[39m/\u001b[39m\u001b[39m/\u001b[39m (math\u001b[39m.\u001b[39mfactorial(i) \u001b[39m*\u001b[39m math\u001b[39m.\u001b[39mfactorial(\u001b[39mself\u001b[39m\u001b[39m.\u001b[39m_N \u001b[39m-\u001b[39m \u001b[39m1\u001b[39m \u001b[39m-\u001b[39m i))\n\u001b[1;32m    197\u001b[0m          \u001b[39mfor\u001b[39;00m i \u001b[39min\u001b[39;00m \u001b[39mrange\u001b[39m(\u001b[39mself\u001b[39m\u001b[39m.\u001b[39m_N)]\n\u001b[1;32m    198\u001b[0m \u001b[39mself\u001b[39m\u001b[39m.\u001b[39m_px \u001b[39m=\u001b[39m (\u001b[39mself\u001b[39m\u001b[39m.\u001b[39m_cpoints\u001b[39m.\u001b[39mT \u001b[39m*\u001b[39m coeff)\u001b[39m.\u001b[39mT\n",
      "File \u001b[0;32m~/anaconda3/lib/python3.10/site-packages/matplotlib/bezier.py:195\u001b[0m, in \u001b[0;36m<listcomp>\u001b[0;34m(.0)\u001b[0m\n\u001b[1;32m    193\u001b[0m \u001b[39mself\u001b[39m\u001b[39m.\u001b[39m_N, \u001b[39mself\u001b[39m\u001b[39m.\u001b[39m_d \u001b[39m=\u001b[39m \u001b[39mself\u001b[39m\u001b[39m.\u001b[39m_cpoints\u001b[39m.\u001b[39mshape\n\u001b[1;32m    194\u001b[0m \u001b[39mself\u001b[39m\u001b[39m.\u001b[39m_orders \u001b[39m=\u001b[39m np\u001b[39m.\u001b[39marange(\u001b[39mself\u001b[39m\u001b[39m.\u001b[39m_N)\n\u001b[0;32m--> 195\u001b[0m coeff \u001b[39m=\u001b[39m [math\u001b[39m.\u001b[39mfactorial(\u001b[39mself\u001b[39m\u001b[39m.\u001b[39m_N \u001b[39m-\u001b[39m \u001b[39m1\u001b[39m)\n\u001b[1;32m    196\u001b[0m          \u001b[39m/\u001b[39m\u001b[39m/\u001b[39m (math\u001b[39m.\u001b[39mfactorial(i) \u001b[39m*\u001b[39m math\u001b[39m.\u001b[39mfactorial(\u001b[39mself\u001b[39m\u001b[39m.\u001b[39m_N \u001b[39m-\u001b[39m \u001b[39m1\u001b[39m \u001b[39m-\u001b[39m i))\n\u001b[1;32m    197\u001b[0m          \u001b[39mfor\u001b[39;00m i \u001b[39min\u001b[39;00m \u001b[39mrange\u001b[39m(\u001b[39mself\u001b[39m\u001b[39m.\u001b[39m_N)]\n\u001b[1;32m    198\u001b[0m \u001b[39mself\u001b[39m\u001b[39m.\u001b[39m_px \u001b[39m=\u001b[39m (\u001b[39mself\u001b[39m\u001b[39m.\u001b[39m_cpoints\u001b[39m.\u001b[39mT \u001b[39m*\u001b[39m coeff)\u001b[39m.\u001b[39mT\n",
      "\u001b[0;31mKeyboardInterrupt\u001b[0m: "
     ]
    },
    {
     "data": {
      "image/png": "[encoded data removed]",
      "text/plain": [
       "<Figure size 640x480 with 1 Axes>"
      ]
     },
     "metadata": {},
     "output_type": "display_data"
    }
   ],
   "source": [
    "# The default is bins=10.\n",
    "\n",
    "sns.countplot(x=df.calculatedfinishedsquarefeet, data=df)\n",
    "\n",
    "plt.title('CFSQfT')\n",
    "plt.show()"
   ]
  },
  {
   "cell_type": "code",
   "execution_count": 23,
   "metadata": {},
   "outputs": [
    {
     "data": {
      "text/plain": [
       "1862.855177652831"
      ]
     },
     "execution_count": 23,
     "metadata": {},
     "output_type": "execute_result"
    }
   ],
   "source": [
    "df.calculatedfinishedsquarefeet.mean()"
   ]
  },
  {
   "cell_type": "code",
   "execution_count": 24,
   "metadata": {},
   "outputs": [
    {
     "data": {
      "text/plain": [
       "propertylandusedesc                0\n",
       "bedroomcnt                        11\n",
       "bathroomcnt                       11\n",
       "calculatedfinishedsquarefeet       0\n",
       "taxvaluedollarcnt                493\n",
       "yearbuilt                       9337\n",
       "taxamount                       4442\n",
       "fips                               0\n",
       "dtype: int64"
      ]
     },
     "execution_count": 24,
     "metadata": {},
     "output_type": "execute_result"
    }
   ],
   "source": [
    "df['calculatedfinishedsquarefeet'] = df['calculatedfinishedsquarefeet'].fillna(df.calculatedfinishedsquarefeet.mean())\n",
    "df.isnull().sum()"
   ]
  },
  {
   "cell_type": "markdown",
   "metadata": {},
   "source": [
    "### for calculated finished square feet I will be fill the null values with the mean value. Because it looks to me there it somthing apparixomating a normal distrobution   "
   ]
  },
  {
   "cell_type": "code",
   "execution_count": 25,
   "metadata": {},
   "outputs": [
    {
     "data": {
      "text/plain": [
       "(2143526, 9337)"
      ]
     },
     "execution_count": 25,
     "metadata": {},
     "output_type": "execute_result"
    }
   ],
   "source": [
    "df.yearbuilt.count(), df.yearbuilt.isnull().sum()"
   ]
  },
  {
   "cell_type": "code",
   "execution_count": 24,
   "metadata": {},
   "outputs": [
    {
     "data": {
      "text/plain": [
       "Text(0.5, 1.0, 'Year Built')"
      ]
     },
     "execution_count": 24,
     "metadata": {},
     "output_type": "execute_result"
    },
    {
     "data": {
      "image/png": "[encoded data removed]",
      "text/plain": [
       "<Figure size 640x480 with 1 Axes>"
      ]
     },
     "metadata": {},
     "output_type": "display_data"
    }
   ],
   "source": [
    "sns.countplot(data=df, x=df.yearbuilt)\n",
    "plt.title(\"Year Built\")"
   ]
  },
  {
   "cell_type": "code",
   "execution_count": 26,
   "metadata": {},
   "outputs": [
    {
     "data": {
      "text/plain": [
       "propertylandusedesc                0\n",
       "bedroomcnt                        11\n",
       "bathroomcnt                       11\n",
       "calculatedfinishedsquarefeet       0\n",
       "taxvaluedollarcnt                493\n",
       "yearbuilt                          0\n",
       "taxamount                       4442\n",
       "fips                               0\n",
       "dtype: int64"
      ]
     },
     "execution_count": 26,
     "metadata": {},
     "output_type": "execute_result"
    }
   ],
   "source": [
    "df['yearbuilt'] = df['yearbuilt'].fillna(df.yearbuilt.mean())\n",
    "df.isnull().sum()"
   ]
  },
  {
   "cell_type": "markdown",
   "metadata": {},
   "source": [
    "### for year built  I will fill na with the mean of year built because the graph looks like a normal distridution. "
   ]
  },
  {
   "cell_type": "code",
   "execution_count": 46,
   "metadata": {},
   "outputs": [
    {
     "data": {
      "text/plain": [
       "(2148421, 4442)"
      ]
     },
     "execution_count": 46,
     "metadata": {},
     "output_type": "execute_result"
    }
   ],
   "source": [
    "df.taxamount.count(), df.taxamount.isnull().sum()"
   ]
  },
  {
   "cell_type": "code",
   "execution_count": 47,
   "metadata": {},
   "outputs": [
    {
     "ename": "KeyboardInterrupt",
     "evalue": "",
     "output_type": "error",
     "traceback": [
      "\u001b[0;31m---------------------------------------------------------------------------\u001b[0m",
      "\u001b[0;31mKeyboardInterrupt\u001b[0m                         Traceback (most recent call last)",
      "Cell \u001b[0;32mIn[47], line 1\u001b[0m\n\u001b[0;32m----> 1\u001b[0m sns\u001b[39m.\u001b[39;49mcountplot(data\u001b[39m=\u001b[39;49mdf, x\u001b[39m=\u001b[39;49mdf\u001b[39m.\u001b[39;49mtaxamount)\n",
      "File \u001b[0;32m~/anaconda3/lib/python3.10/site-packages/seaborn/categorical.py:2955\u001b[0m, in \u001b[0;36mcountplot\u001b[0;34m(data, x, y, hue, order, hue_order, orient, color, palette, saturation, width, dodge, ax, **kwargs)\u001b[0m\n\u001b[1;32m   2952\u001b[0m \u001b[39mif\u001b[39;00m ax \u001b[39mis\u001b[39;00m \u001b[39mNone\u001b[39;00m:\n\u001b[1;32m   2953\u001b[0m     ax \u001b[39m=\u001b[39m plt\u001b[39m.\u001b[39mgca()\n\u001b[0;32m-> 2955\u001b[0m plotter\u001b[39m.\u001b[39;49mplot(ax, kwargs)\n\u001b[1;32m   2956\u001b[0m \u001b[39mreturn\u001b[39;00m ax\n",
      "File \u001b[0;32m~/anaconda3/lib/python3.10/site-packages/seaborn/categorical.py:1587\u001b[0m, in \u001b[0;36m_BarPlotter.plot\u001b[0;34m(self, ax, bar_kws)\u001b[0m\n\u001b[1;32m   1585\u001b[0m \u001b[39m\"\"\"Make the plot.\"\"\"\u001b[39;00m\n\u001b[1;32m   1586\u001b[0m \u001b[39mself\u001b[39m\u001b[39m.\u001b[39mdraw_bars(ax, bar_kws)\n\u001b[0;32m-> 1587\u001b[0m \u001b[39mself\u001b[39;49m\u001b[39m.\u001b[39;49mannotate_axes(ax)\n\u001b[1;32m   1588\u001b[0m \u001b[39mif\u001b[39;00m \u001b[39mself\u001b[39m\u001b[39m.\u001b[39morient \u001b[39m==\u001b[39m \u001b[39m\"\u001b[39m\u001b[39mh\u001b[39m\u001b[39m\"\u001b[39m:\n\u001b[1;32m   1589\u001b[0m     ax\u001b[39m.\u001b[39minvert_yaxis()\n",
      "File \u001b[0;32m~/anaconda3/lib/python3.10/site-packages/seaborn/categorical.py:753\u001b[0m, in \u001b[0;36m_CategoricalPlotter.annotate_axes\u001b[0;34m(self, ax)\u001b[0m\n\u001b[1;32m    750\u001b[0m     group_names \u001b[39m=\u001b[39m [\u001b[39m\"\u001b[39m\u001b[39m\"\u001b[39m \u001b[39mfor\u001b[39;00m _ \u001b[39min\u001b[39;00m \u001b[39mrange\u001b[39m(\u001b[39mlen\u001b[39m(\u001b[39mself\u001b[39m\u001b[39m.\u001b[39mplot_data))]\n\u001b[1;32m    752\u001b[0m \u001b[39mif\u001b[39;00m \u001b[39mself\u001b[39m\u001b[39m.\u001b[39morient \u001b[39m==\u001b[39m \u001b[39m\"\u001b[39m\u001b[39mv\u001b[39m\u001b[39m\"\u001b[39m:\n\u001b[0;32m--> 753\u001b[0m     ax\u001b[39m.\u001b[39;49mset_xticks(np\u001b[39m.\u001b[39;49marange(\u001b[39mlen\u001b[39;49m(\u001b[39mself\u001b[39;49m\u001b[39m.\u001b[39;49mplot_data)))\n\u001b[1;32m    754\u001b[0m     ax\u001b[39m.\u001b[39mset_xticklabels(group_names)\n\u001b[1;32m    755\u001b[0m \u001b[39melse\u001b[39;00m:\n",
      "File \u001b[0;32m~/anaconda3/lib/python3.10/site-packages/matplotlib/axes/_base.py:74\u001b[0m, in \u001b[0;36m_axis_method_wrapper.__set_name__.<locals>.wrapper\u001b[0;34m(self, *args, **kwargs)\u001b[0m\n\u001b[1;32m     73\u001b[0m \u001b[39mdef\u001b[39;00m \u001b[39mwrapper\u001b[39m(\u001b[39mself\u001b[39m, \u001b[39m*\u001b[39margs, \u001b[39m*\u001b[39m\u001b[39m*\u001b[39mkwargs):\n\u001b[0;32m---> 74\u001b[0m     \u001b[39mreturn\u001b[39;00m get_method(\u001b[39mself\u001b[39;49m)(\u001b[39m*\u001b[39;49margs, \u001b[39m*\u001b[39;49m\u001b[39m*\u001b[39;49mkwargs)\n",
      "File \u001b[0;32m~/anaconda3/lib/python3.10/site-packages/matplotlib/axis.py:2078\u001b[0m, in \u001b[0;36mAxis.set_ticks\u001b[0;34m(self, ticks, labels, minor, **kwargs)\u001b[0m\n\u001b[1;32m   2075\u001b[0m \u001b[39mif\u001b[39;00m labels \u001b[39mis\u001b[39;00m \u001b[39mNone\u001b[39;00m \u001b[39mand\u001b[39;00m kwargs:\n\u001b[1;32m   2076\u001b[0m     \u001b[39mraise\u001b[39;00m \u001b[39mValueError\u001b[39;00m(\u001b[39m'\u001b[39m\u001b[39mlabels argument cannot be None when \u001b[39m\u001b[39m'\u001b[39m\n\u001b[1;32m   2077\u001b[0m                      \u001b[39m'\u001b[39m\u001b[39mkwargs are passed\u001b[39m\u001b[39m'\u001b[39m)\n\u001b[0;32m-> 2078\u001b[0m result \u001b[39m=\u001b[39m \u001b[39mself\u001b[39;49m\u001b[39m.\u001b[39;49m_set_tick_locations(ticks, minor\u001b[39m=\u001b[39;49mminor)\n\u001b[1;32m   2079\u001b[0m \u001b[39mif\u001b[39;00m labels \u001b[39mis\u001b[39;00m \u001b[39mnot\u001b[39;00m \u001b[39mNone\u001b[39;00m:\n\u001b[1;32m   2080\u001b[0m     \u001b[39mself\u001b[39m\u001b[39m.\u001b[39mset_ticklabels(labels, minor\u001b[39m=\u001b[39mminor, \u001b[39m*\u001b[39m\u001b[39m*\u001b[39mkwargs)\n",
      "File \u001b[0;32m~/anaconda3/lib/python3.10/site-packages/matplotlib/axis.py:2039\u001b[0m, in \u001b[0;36mAxis._set_tick_locations\u001b[0;34m(self, ticks, minor)\u001b[0m\n\u001b[1;32m   2037\u001b[0m \u001b[39melse\u001b[39;00m:\n\u001b[1;32m   2038\u001b[0m     \u001b[39mself\u001b[39m\u001b[39m.\u001b[39mset_major_locator(locator)\n\u001b[0;32m-> 2039\u001b[0m     \u001b[39mreturn\u001b[39;00m \u001b[39mself\u001b[39;49m\u001b[39m.\u001b[39;49mget_major_ticks(\u001b[39mlen\u001b[39;49m(ticks))\n",
      "File \u001b[0;32m~/anaconda3/lib/python3.10/site-packages/matplotlib/axis.py:1597\u001b[0m, in \u001b[0;36mAxis.get_major_ticks\u001b[0;34m(self, numticks)\u001b[0m\n\u001b[1;32m   1593\u001b[0m     numticks \u001b[39m=\u001b[39m \u001b[39mlen\u001b[39m(\u001b[39mself\u001b[39m\u001b[39m.\u001b[39mget_majorticklocs())\n\u001b[1;32m   1595\u001b[0m \u001b[39mwhile\u001b[39;00m \u001b[39mlen\u001b[39m(\u001b[39mself\u001b[39m\u001b[39m.\u001b[39mmajorTicks) \u001b[39m<\u001b[39m numticks:\n\u001b[1;32m   1596\u001b[0m     \u001b[39m# Update the new tick label properties from the old.\u001b[39;00m\n\u001b[0;32m-> 1597\u001b[0m     tick \u001b[39m=\u001b[39m \u001b[39mself\u001b[39;49m\u001b[39m.\u001b[39;49m_get_tick(major\u001b[39m=\u001b[39;49m\u001b[39mTrue\u001b[39;49;00m)\n\u001b[1;32m   1598\u001b[0m     \u001b[39mself\u001b[39m\u001b[39m.\u001b[39mmajorTicks\u001b[39m.\u001b[39mappend(tick)\n\u001b[1;32m   1599\u001b[0m     \u001b[39mself\u001b[39m\u001b[39m.\u001b[39m_copy_tick_props(\u001b[39mself\u001b[39m\u001b[39m.\u001b[39mmajorTicks[\u001b[39m0\u001b[39m], tick)\n",
      "File \u001b[0;32m~/anaconda3/lib/python3.10/site-packages/matplotlib/axis.py:1546\u001b[0m, in \u001b[0;36mAxis._get_tick\u001b[0;34m(self, major)\u001b[0m\n\u001b[1;32m   1542\u001b[0m     \u001b[39mraise\u001b[39;00m \u001b[39mNotImplementedError\u001b[39;00m(\n\u001b[1;32m   1543\u001b[0m         \u001b[39mf\u001b[39m\u001b[39m\"\u001b[39m\u001b[39mThe Axis subclass \u001b[39m\u001b[39m{\u001b[39;00m\u001b[39mself\u001b[39m\u001b[39m.\u001b[39m\u001b[39m__class__\u001b[39m\u001b[39m.\u001b[39m\u001b[39m__name__\u001b[39m\u001b[39m}\u001b[39;00m\u001b[39m must define \u001b[39m\u001b[39m\"\u001b[39m\n\u001b[1;32m   1544\u001b[0m         \u001b[39m\"\u001b[39m\u001b[39m_tick_class or reimplement _get_tick()\u001b[39m\u001b[39m\"\u001b[39m)\n\u001b[1;32m   1545\u001b[0m tick_kw \u001b[39m=\u001b[39m \u001b[39mself\u001b[39m\u001b[39m.\u001b[39m_major_tick_kw \u001b[39mif\u001b[39;00m major \u001b[39melse\u001b[39;00m \u001b[39mself\u001b[39m\u001b[39m.\u001b[39m_minor_tick_kw\n\u001b[0;32m-> 1546\u001b[0m \u001b[39mreturn\u001b[39;00m \u001b[39mself\u001b[39;49m\u001b[39m.\u001b[39;49m_tick_class(\u001b[39mself\u001b[39;49m\u001b[39m.\u001b[39;49maxes, \u001b[39m0\u001b[39;49m, major\u001b[39m=\u001b[39;49mmajor, \u001b[39m*\u001b[39;49m\u001b[39m*\u001b[39;49mtick_kw)\n",
      "File \u001b[0;32m~/anaconda3/lib/python3.10/site-packages/matplotlib/axis.py:417\u001b[0m, in \u001b[0;36mXTick.__init__\u001b[0;34m(self, *args, **kwargs)\u001b[0m\n\u001b[1;32m    416\u001b[0m \u001b[39mdef\u001b[39;00m \u001b[39m__init__\u001b[39m(\u001b[39mself\u001b[39m, \u001b[39m*\u001b[39margs, \u001b[39m*\u001b[39m\u001b[39m*\u001b[39mkwargs):\n\u001b[0;32m--> 417\u001b[0m     \u001b[39msuper\u001b[39;49m()\u001b[39m.\u001b[39;49m\u001b[39m__init__\u001b[39;49m(\u001b[39m*\u001b[39;49margs, \u001b[39m*\u001b[39;49m\u001b[39m*\u001b[39;49mkwargs)\n\u001b[1;32m    418\u001b[0m     \u001b[39m# x in data coords, y in axes coords\u001b[39;00m\n\u001b[1;32m    419\u001b[0m     ax \u001b[39m=\u001b[39m \u001b[39mself\u001b[39m\u001b[39m.\u001b[39maxes\n",
      "File \u001b[0;32m~/anaconda3/lib/python3.10/site-packages/matplotlib/axis.py:178\u001b[0m, in \u001b[0;36mTick.__init__\u001b[0;34m(self, axes, loc, size, width, color, tickdir, pad, labelsize, labelcolor, zorder, gridOn, tick1On, tick2On, label1On, label2On, major, labelrotation, grid_color, grid_linestyle, grid_linewidth, grid_alpha, **kwargs)\u001b[0m\n\u001b[1;32m    172\u001b[0m \u001b[39mself\u001b[39m\u001b[39m.\u001b[39mgridline\u001b[39m.\u001b[39mget_path()\u001b[39m.\u001b[39m_interpolation_steps \u001b[39m=\u001b[39m \\\n\u001b[1;32m    173\u001b[0m     GRIDLINE_INTERPOLATION_STEPS\n\u001b[1;32m    174\u001b[0m \u001b[39mself\u001b[39m\u001b[39m.\u001b[39mlabel1 \u001b[39m=\u001b[39m mtext\u001b[39m.\u001b[39mText(\n\u001b[1;32m    175\u001b[0m     np\u001b[39m.\u001b[39mnan, np\u001b[39m.\u001b[39mnan,\n\u001b[1;32m    176\u001b[0m     fontsize\u001b[39m=\u001b[39mlabelsize, color\u001b[39m=\u001b[39mlabelcolor, visible\u001b[39m=\u001b[39mlabel1On,\n\u001b[1;32m    177\u001b[0m     rotation\u001b[39m=\u001b[39m\u001b[39mself\u001b[39m\u001b[39m.\u001b[39m_labelrotation[\u001b[39m1\u001b[39m])\n\u001b[0;32m--> 178\u001b[0m \u001b[39mself\u001b[39m\u001b[39m.\u001b[39mlabel2 \u001b[39m=\u001b[39m mtext\u001b[39m.\u001b[39;49mText(\n\u001b[1;32m    179\u001b[0m     np\u001b[39m.\u001b[39;49mnan, np\u001b[39m.\u001b[39;49mnan,\n\u001b[1;32m    180\u001b[0m     fontsize\u001b[39m=\u001b[39;49mlabelsize, color\u001b[39m=\u001b[39;49mlabelcolor, visible\u001b[39m=\u001b[39;49mlabel2On,\n\u001b[1;32m    181\u001b[0m     rotation\u001b[39m=\u001b[39;49m\u001b[39mself\u001b[39;49m\u001b[39m.\u001b[39;49m_labelrotation[\u001b[39m1\u001b[39;49m])\n\u001b[1;32m    183\u001b[0m \u001b[39mself\u001b[39m\u001b[39m.\u001b[39m_apply_tickdir(tickdir)\n\u001b[1;32m    185\u001b[0m \u001b[39mfor\u001b[39;00m artist \u001b[39min\u001b[39;00m [\u001b[39mself\u001b[39m\u001b[39m.\u001b[39mtick1line, \u001b[39mself\u001b[39m\u001b[39m.\u001b[39mtick2line, \u001b[39mself\u001b[39m\u001b[39m.\u001b[39mgridline,\n\u001b[1;32m    186\u001b[0m                \u001b[39mself\u001b[39m\u001b[39m.\u001b[39mlabel1, \u001b[39mself\u001b[39m\u001b[39m.\u001b[39mlabel2]:\n",
      "File \u001b[0;32m~/anaconda3/lib/python3.10/site-packages/matplotlib/_api/deprecation.py:454\u001b[0m, in \u001b[0;36mmake_keyword_only.<locals>.wrapper\u001b[0;34m(*args, **kwargs)\u001b[0m\n\u001b[1;32m    448\u001b[0m \u001b[39mif\u001b[39;00m \u001b[39mlen\u001b[39m(args) \u001b[39m>\u001b[39m name_idx:\n\u001b[1;32m    449\u001b[0m     warn_deprecated(\n\u001b[1;32m    450\u001b[0m         since, message\u001b[39m=\u001b[39m\u001b[39m\"\u001b[39m\u001b[39mPassing the \u001b[39m\u001b[39m%(name)s\u001b[39;00m\u001b[39m \u001b[39m\u001b[39m%(obj_type)s\u001b[39;00m\u001b[39m \u001b[39m\u001b[39m\"\u001b[39m\n\u001b[1;32m    451\u001b[0m         \u001b[39m\"\u001b[39m\u001b[39mpositionally is deprecated since Matplotlib \u001b[39m\u001b[39m%(since)s\u001b[39;00m\u001b[39m; the \u001b[39m\u001b[39m\"\u001b[39m\n\u001b[1;32m    452\u001b[0m         \u001b[39m\"\u001b[39m\u001b[39mparameter will become keyword-only \u001b[39m\u001b[39m%(removal)s\u001b[39;00m\u001b[39m.\u001b[39m\u001b[39m\"\u001b[39m,\n\u001b[1;32m    453\u001b[0m         name\u001b[39m=\u001b[39mname, obj_type\u001b[39m=\u001b[39m\u001b[39mf\u001b[39m\u001b[39m\"\u001b[39m\u001b[39mparameter of \u001b[39m\u001b[39m{\u001b[39;00mfunc\u001b[39m.\u001b[39m\u001b[39m__name__\u001b[39m\u001b[39m}\u001b[39;00m\u001b[39m()\u001b[39m\u001b[39m\"\u001b[39m)\n\u001b[0;32m--> 454\u001b[0m \u001b[39mreturn\u001b[39;00m func(\u001b[39m*\u001b[39;49margs, \u001b[39m*\u001b[39;49m\u001b[39m*\u001b[39;49mkwargs)\n",
      "File \u001b[0;32m~/anaconda3/lib/python3.10/site-packages/matplotlib/text.py:168\u001b[0m, in \u001b[0;36mText.__init__\u001b[0;34m(self, x, y, text, color, verticalalignment, horizontalalignment, multialignment, fontproperties, rotation, linespacing, rotation_mode, usetex, wrap, transform_rotates_text, parse_math, **kwargs)\u001b[0m\n\u001b[1;32m    166\u001b[0m \u001b[39mself\u001b[39m\u001b[39m.\u001b[39m_x, \u001b[39mself\u001b[39m\u001b[39m.\u001b[39m_y \u001b[39m=\u001b[39m x, y\n\u001b[1;32m    167\u001b[0m \u001b[39mself\u001b[39m\u001b[39m.\u001b[39m_text \u001b[39m=\u001b[39m \u001b[39m'\u001b[39m\u001b[39m'\u001b[39m\n\u001b[0;32m--> 168\u001b[0m \u001b[39mself\u001b[39;49m\u001b[39m.\u001b[39;49m_reset_visual_defaults(\n\u001b[1;32m    169\u001b[0m     text\u001b[39m=\u001b[39;49mtext,\n\u001b[1;32m    170\u001b[0m     color\u001b[39m=\u001b[39;49mcolor,\n\u001b[1;32m    171\u001b[0m     fontproperties\u001b[39m=\u001b[39;49mfontproperties,\n\u001b[1;32m    172\u001b[0m     usetex\u001b[39m=\u001b[39;49musetex,\n\u001b[1;32m    173\u001b[0m     parse_math\u001b[39m=\u001b[39;49mparse_math,\n\u001b[1;32m    174\u001b[0m     wrap\u001b[39m=\u001b[39;49mwrap,\n\u001b[1;32m    175\u001b[0m     verticalalignment\u001b[39m=\u001b[39;49mverticalalignment,\n\u001b[1;32m    176\u001b[0m     horizontalalignment\u001b[39m=\u001b[39;49mhorizontalalignment,\n\u001b[1;32m    177\u001b[0m     multialignment\u001b[39m=\u001b[39;49mmultialignment,\n\u001b[1;32m    178\u001b[0m     rotation\u001b[39m=\u001b[39;49mrotation,\n\u001b[1;32m    179\u001b[0m     transform_rotates_text\u001b[39m=\u001b[39;49mtransform_rotates_text,\n\u001b[1;32m    180\u001b[0m     linespacing\u001b[39m=\u001b[39;49mlinespacing,\n\u001b[1;32m    181\u001b[0m     rotation_mode\u001b[39m=\u001b[39;49mrotation_mode,\n\u001b[1;32m    182\u001b[0m )\n\u001b[1;32m    183\u001b[0m \u001b[39mself\u001b[39m\u001b[39m.\u001b[39mupdate(kwargs)\n",
      "File \u001b[0;32m~/anaconda3/lib/python3.10/site-packages/matplotlib/text.py:207\u001b[0m, in \u001b[0;36mText._reset_visual_defaults\u001b[0;34m(self, text, color, fontproperties, usetex, parse_math, wrap, verticalalignment, horizontalalignment, multialignment, rotation, transform_rotates_text, linespacing, rotation_mode)\u001b[0m\n\u001b[1;32m    204\u001b[0m \u001b[39mself\u001b[39m\u001b[39m.\u001b[39mset_fontproperties(fontproperties)\n\u001b[1;32m    205\u001b[0m \u001b[39mself\u001b[39m\u001b[39m.\u001b[39mset_usetex(usetex)\n\u001b[1;32m    206\u001b[0m \u001b[39mself\u001b[39m\u001b[39m.\u001b[39mset_parse_math(parse_math \u001b[39mif\u001b[39;00m parse_math \u001b[39mis\u001b[39;00m \u001b[39mnot\u001b[39;00m \u001b[39mNone\u001b[39;00m \u001b[39melse\u001b[39;00m\n\u001b[0;32m--> 207\u001b[0m                     mpl\u001b[39m.\u001b[39;49mrcParams[\u001b[39m'\u001b[39;49m\u001b[39mtext.parse_math\u001b[39;49m\u001b[39m'\u001b[39;49m])\n\u001b[1;32m    208\u001b[0m \u001b[39mself\u001b[39m\u001b[39m.\u001b[39mset_wrap(wrap)\n\u001b[1;32m    209\u001b[0m \u001b[39mself\u001b[39m\u001b[39m.\u001b[39mset_verticalalignment(verticalalignment)\n",
      "File \u001b[0;32m~/anaconda3/lib/python3.10/site-packages/matplotlib/__init__.py:732\u001b[0m, in \u001b[0;36mRcParams.__getitem__\u001b[0;34m(self, key)\u001b[0m\n\u001b[1;32m    728\u001b[0m     _api\u001b[39m.\u001b[39mwarn_deprecated(\n\u001b[1;32m    729\u001b[0m         version, name\u001b[39m=\u001b[39mkey, obj_type\u001b[39m=\u001b[39m\u001b[39m\"\u001b[39m\u001b[39mrcparam\u001b[39m\u001b[39m\"\u001b[39m, alternative\u001b[39m=\u001b[39malt_key)\n\u001b[1;32m    730\u001b[0m     \u001b[39mreturn\u001b[39;00m inverse_alt(\u001b[39mself\u001b[39m\u001b[39m.\u001b[39m_get(alt_key))\n\u001b[0;32m--> 732\u001b[0m \u001b[39melif\u001b[39;00m key \u001b[39min\u001b[39;00m _deprecated_ignore_map:\n\u001b[1;32m    733\u001b[0m     version, alt_key \u001b[39m=\u001b[39m _deprecated_ignore_map[key]\n\u001b[1;32m    734\u001b[0m     _api\u001b[39m.\u001b[39mwarn_deprecated(\n\u001b[1;32m    735\u001b[0m         version, name\u001b[39m=\u001b[39mkey, obj_type\u001b[39m=\u001b[39m\u001b[39m\"\u001b[39m\u001b[39mrcparam\u001b[39m\u001b[39m\"\u001b[39m, alternative\u001b[39m=\u001b[39malt_key)\n",
      "\u001b[0;31mKeyboardInterrupt\u001b[0m: "
     ]
    }
   ],
   "source": [
    "sns.countplot(data=df, x=df.taxamount)"
   ]
  },
  {
   "cell_type": "code",
   "execution_count": 36,
   "metadata": {},
   "outputs": [
    {
     "data": {
      "text/plain": [
       "count    2.148419e+06\n",
       "mean     5.634871e+03\n",
       "std      8.178913e+03\n",
       "min      1.850000e+00\n",
       "25%      2.534980e+03\n",
       "50%      4.108950e+03\n",
       "75%      6.414325e+03\n",
       "max      1.337756e+06\n",
       "Name: taxamount, dtype: float64"
      ]
     },
     "execution_count": 36,
     "metadata": {},
     "output_type": "execute_result"
    }
   ],
   "source": [
    "df.taxamount.describe()"
   ]
  },
  {
   "cell_type": "code",
   "execution_count": 37,
   "metadata": {},
   "outputs": [
    {
     "name": "stderr",
     "output_type": "stream",
     "text": [
      "/var/folders/6d/_03p2v5j0rd067n1f34klb7w0000gn/T/ipykernel_95352/2794964230.py:1: SettingWithCopyWarning: \n",
      "A value is trying to be set on a copy of a slice from a DataFrame.\n",
      "Try using .loc[row_indexer,col_indexer] = value instead\n",
      "\n",
      "See the caveats in the documentation: https://pandas.pydata.org/pandas-docs/stable/user_guide/indexing.html#returning-a-view-versus-a-copy\n",
      "  df['taxamount'] = df['taxamount'].fillna(df.taxamount.mean())\n"
     ]
    }
   ],
   "source": [
    "    df['taxamount'] = df['taxamount'].fillna(df.taxamount.mean())\n"
   ]
  },
  {
   "cell_type": "markdown",
   "metadata": {},
   "source": [
    "### for tax amount I will be "
   ]
  },
  {
   "cell_type": "code",
   "execution_count": 32,
   "metadata": {},
   "outputs": [
    {
     "data": {
      "text/plain": [
       "(2152370, 493)"
      ]
     },
     "execution_count": 32,
     "metadata": {},
     "output_type": "execute_result"
    }
   ],
   "source": [
    "df.taxvaluedollarcnt.count(), df.taxvaluedollarcnt.isnull().sum()"
   ]
  },
  {
   "cell_type": "code",
   "execution_count": 38,
   "metadata": {},
   "outputs": [
    {
     "data": {
      "text/plain": [
       "propertylandusedesc               0\n",
       "bedroomcnt                        0\n",
       "bathroomcnt                       0\n",
       "calculatedfinishedsquarefeet      0\n",
       "taxvaluedollarcnt               493\n",
       "yearbuilt                         0\n",
       "taxamount                         0\n",
       "fips                              0\n",
       "dtype: int64"
      ]
     },
     "execution_count": 38,
     "metadata": {},
     "output_type": "execute_result"
    }
   ],
   "source": [
    "df.isnull().sum()"
   ]
  },
  {
   "cell_type": "code",
   "execution_count": 35,
   "metadata": {},
   "outputs": [
    {
     "data": {
      "text/plain": [
       "count    2.152359e+06\n",
       "mean     4.618968e+05\n",
       "std      6.996774e+05\n",
       "min      1.000000e+00\n",
       "25%      1.881710e+05\n",
       "50%      3.276710e+05\n",
       "75%      5.345270e+05\n",
       "max      9.842891e+07\n",
       "Name: taxvaluedollarcnt, dtype: float64"
      ]
     },
     "execution_count": 35,
     "metadata": {},
     "output_type": "execute_result"
    }
   ],
   "source": [
    "df.taxvaluedollarcnt.describe()"
   ]
  },
  {
   "cell_type": "code",
   "execution_count": 44,
   "metadata": {},
   "outputs": [],
   "source": [
    "def wrangle_zillow(df):\n",
    "    df = get_zillow_data()\n",
    "    df['calculatedfinishedsquarefeet'] = df['calculatedfinishedsquarefeet'].fillna(df.calculatedfinishedsquarefeet.mean())\n",
    "    df['yearbuilt'] = df['yearbuilt'].fillna(df.yearbuilt.mean())\n",
    "    df['taxamount'] = df['taxamount'].fillna(df.taxamount.mean())\n",
    "    df = df.dropna(subset=['bathroomcnt', 'bedroomcnt', 'taxvaluedollarcnt'])\n",
    "    return df\n",
    "\n",
    "\n",
    "\n",
    "    "
   ]
  },
  {
   "cell_type": "code",
   "execution_count": 45,
   "metadata": {},
   "outputs": [
    {
     "data": {
      "text/html": [
       "<div>\n",
       "<style scoped>\n",
       "    .dataframe tbody tr th:only-of-type {\n",
       "        vertical-align: middle;\n",
       "    }\n",
       "\n",
       "    .dataframe tbody tr th {\n",
       "        vertical-align: top;\n",
       "    }\n",
       "\n",
       "    .dataframe thead th {\n",
       "        text-align: right;\n",
       "    }\n",
       "</style>\n",
       "<table border=\"1\" class=\"dataframe\">\n",
       "  <thead>\n",
       "    <tr style=\"text-align: right;\">\n",
       "      <th></th>\n",
       "      <th>propertylandusedesc</th>\n",
       "      <th>bedroomcnt</th>\n",
       "      <th>bathroomcnt</th>\n",
       "      <th>calculatedfinishedsquarefeet</th>\n",
       "      <th>taxvaluedollarcnt</th>\n",
       "      <th>yearbuilt</th>\n",
       "      <th>taxamount</th>\n",
       "      <th>fips</th>\n",
       "    </tr>\n",
       "  </thead>\n",
       "  <tbody>\n",
       "    <tr>\n",
       "      <th>1222909</th>\n",
       "      <td>Single Family Residential</td>\n",
       "      <td>3.0</td>\n",
       "      <td>1.0</td>\n",
       "      <td>1584.0</td>\n",
       "      <td>400324.0</td>\n",
       "      <td>1955.0</td>\n",
       "      <td>5191.68</td>\n",
       "      <td>6037.0</td>\n",
       "    </tr>\n",
       "    <tr>\n",
       "      <th>1712558</th>\n",
       "      <td>Single Family Residential</td>\n",
       "      <td>0.0</td>\n",
       "      <td>0.0</td>\n",
       "      <td>NaN</td>\n",
       "      <td>96448.0</td>\n",
       "      <td>NaN</td>\n",
       "      <td>1051.32</td>\n",
       "      <td>6111.0</td>\n",
       "    </tr>\n",
       "    <tr>\n",
       "      <th>796055</th>\n",
       "      <td>Single Family Residential</td>\n",
       "      <td>4.0</td>\n",
       "      <td>3.0</td>\n",
       "      <td>2269.0</td>\n",
       "      <td>733231.0</td>\n",
       "      <td>1994.0</td>\n",
       "      <td>7067.62</td>\n",
       "      <td>6059.0</td>\n",
       "    </tr>\n",
       "  </tbody>\n",
       "</table>\n",
       "</div>"
      ],
      "text/plain": [
       "               propertylandusedesc  bedroomcnt  bathroomcnt  \\\n",
       "1222909  Single Family Residential         3.0          1.0   \n",
       "1712558  Single Family Residential         0.0          0.0   \n",
       "796055   Single Family Residential         4.0          3.0   \n",
       "\n",
       "         calculatedfinishedsquarefeet  taxvaluedollarcnt  yearbuilt  \\\n",
       "1222909                        1584.0           400324.0     1955.0   \n",
       "1712558                           NaN            96448.0        NaN   \n",
       "796055                         2269.0           733231.0     1994.0   \n",
       "\n",
       "         taxamount    fips  \n",
       "1222909    5191.68  6037.0  \n",
       "1712558    1051.32  6111.0  \n",
       "796055     7067.62  6059.0  "
      ]
     },
     "execution_count": 45,
     "metadata": {},
     "output_type": "execute_result"
    }
   ],
   "source": [
    "new_df = get_zillow_data()\n",
    "new_df.sample(3)"
   ]
  },
  {
   "cell_type": "code",
   "execution_count": 46,
   "metadata": {},
   "outputs": [
    {
     "data": {
      "text/plain": [
       "propertylandusedesc             0\n",
       "bedroomcnt                      0\n",
       "bathroomcnt                     0\n",
       "calculatedfinishedsquarefeet    0\n",
       "taxvaluedollarcnt               0\n",
       "yearbuilt                       0\n",
       "taxamount                       0\n",
       "fips                            0\n",
       "dtype: int64"
      ]
     },
     "execution_count": 46,
     "metadata": {},
     "output_type": "execute_result"
    }
   ],
   "source": [
    "df = wrangle_zillow(new_df)\n",
    "df.isnull().sum()"
   ]
  },
  {
   "cell_type": "code",
   "execution_count": 47,
   "metadata": {},
   "outputs": [
    {
     "data": {
      "text/plain": [
       "(2152359, 8)"
      ]
     },
     "execution_count": 47,
     "metadata": {},
     "output_type": "execute_result"
    }
   ],
   "source": [
    "df.shape"
   ]
  },
  {
   "cell_type": "code",
   "execution_count": 50,
   "metadata": {},
   "outputs": [
    {
     "data": {
      "text/plain": [
       "propertylandusedesc             0.000000\n",
       "bedroomcnt                      0.000005\n",
       "bathroomcnt                     0.000005\n",
       "calculatedfinishedsquarefeet    0.003941\n",
       "taxvaluedollarcnt               0.000229\n",
       "yearbuilt                       0.004337\n",
       "taxamount                       0.002063\n",
       "fips                            0.000000\n",
       "dtype: float64"
      ]
     },
     "execution_count": 50,
     "metadata": {},
     "output_type": "execute_result"
    }
   ],
   "source": [
    "df = get_zillow_data()\n",
    "df.isnull().mean()"
   ]
  },
  {
   "cell_type": "code",
   "execution_count": 51,
   "metadata": {},
   "outputs": [
    {
     "data": {
      "text/plain": [
       "bedroomcnt\n",
       "3.0     964298\n",
       "4.0     634289\n",
       "2.0     335473\n",
       "5.0     150866\n",
       "6.0      25166\n",
       "1.0      23166\n",
       "0.0      13187\n",
       "7.0       4807\n",
       "8.0       1107\n",
       "9.0        291\n",
       "10.0       121\n",
       "11.0        34\n",
       "13.0        16\n",
       "12.0        12\n",
       "14.0         7\n",
       "15.0         6\n",
       "18.0         3\n",
       "16.0         2\n",
       "25.0         1\n",
       "Name: count, dtype: int64"
      ]
     },
     "execution_count": 51,
     "metadata": {},
     "output_type": "execute_result"
    }
   ],
   "source": [
    "df.bedroomcnt.value_counts()"
   ]
  }
 ],
 "metadata": {
  "kernelspec": {
   "display_name": "base",
   "language": "python",
   "name": "python3"
  },
  "language_info": {
   "codemirror_mode": {
    "name": "ipython",
    "version": 3
   },
   "file_extension": ".py",
   "mimetype": "text/x-python",
   "name": "python",
   "nbconvert_exporter": "python",
   "pygments_lexer": "ipython3",
   "version": "3.10.9"
  },
  "orig_nbformat": 4
 },
 "nbformat": 4,
 "nbformat_minor": 2
}
